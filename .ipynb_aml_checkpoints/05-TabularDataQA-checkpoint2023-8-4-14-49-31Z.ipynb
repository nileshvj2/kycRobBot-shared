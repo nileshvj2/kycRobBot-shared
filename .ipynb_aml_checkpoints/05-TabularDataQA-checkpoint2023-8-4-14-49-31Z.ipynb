{
  "cells": [
    {
      "cell_type": "markdown",
      "source": [
        "# Q&A against Tabular Data from a CSV file  (experimental)"
      ],
      "metadata": {},
      "id": "45b4b5a4-96b0-4935-b890-8eb1c3d678ad"
    },
    {
      "cell_type": "markdown",
      "source": [
        "To really have a Smart Search Engine or Virtual assistant that can answer any question about your corporate documents, this \"engine\" must understand tabular data, aka, sources with tables, rows and columns with numbers. \n",
        "This is a different problem that simply looking for the top most similar results.  The concept of indexing, bringing top results, embedding, doing a cosine semantic search and summarize an answer, doesn't really apply to this problem.\n",
        "We are dealing now with sources with Tables in which each row and column are related to each other, and in order to answer a question, all of the data is needed, not just top results.\n",
        "\n",
        "In this notebook, the goal is to show how to deal with this kind of use cases. To continue with our Covid-19 theme, we will be using an open dataset called [\"Covid Tracking Project\"](https://covidtracking.com/data/download). The COVID Tracking Project dataset is a  CSV file that provides the latest numbers on tests, confirmed cases, hospitalizations, and patient outcomes from every US state and territory (they stopped tracking on March 7 2021).\n",
        "\n",
        "Imagine that many documents on a data lake are tabular data, or that your use case is to ask questions in natural language to a LLM model and this model needs to get the context from a CSV file or even a SQL Database in order to answer the question. A GPT Smart Search Engine, must understand how to deal with this sources, understand the data and answer acoordingly."
      ],
      "metadata": {},
      "id": "9697d091-a0fb-4aac-9761-36dbfbebae29"
    },
    {
      "cell_type": "code",
      "source": [
        "import os\n",
        "import pandas as pd\n",
        "from langchain.llms import AzureOpenAI\n",
        "from langchain.chat_models import AzureChatOpenAI\n",
        "from langchain.agents import create_pandas_dataframe_agent\n",
        "from langchain.agents import create_csv_agent\n",
        "\n",
        "from common.prompts import CSV_PROMPT_PREFIX, CSV_PROMPT_SUFFIX\n",
        "\n",
        "from IPython.display import Markdown, HTML, display  \n",
        "\n",
        "from dotenv import load_dotenv\n",
        "load_dotenv(\"credentials.env\")\n",
        "\n",
        "def printmd(string):\n",
        "    display(Markdown(string))"
      ],
      "outputs": [],
      "execution_count": 38,
      "metadata": {
        "gather": {
          "logged": 1693753086680
        }
      },
      "id": "4ccab2f5-f8d3-4eb5-b1a7-961388d33d3d"
    },
    {
      "cell_type": "code",
      "source": [
        "# Set the Data source connection string. This is the location of the CSV with the COVID articles on each line. \n",
        "# You can change it and use your own data\n",
        "DATASOURCE_CONNECTION_STRING = \"DefaultEndpointsProtocol=https;AccountName=njonpdadls3;AccountKey=2MFKq8vzZVrxm4grSGo/cRbgkHqDuCFAoz0Yulx2D0wKBp879smmlrUZDcKeztL7M84pvQczHLWM+AStBLZ1SA==;EndpointSuffix=core.windows.net\"\n",
        "#DATASOURCE_SAS_TOKEN = \"?sv=2022-11-02&ss=bf&srt=sco&sp=rltfx&se=2024-10-02T01:02:07Z&st=2023-08-03T17:02:07Z&spr=https&sig=gLxStXFSY6X29OPpPDpBEhoQDdtJNDrMVExNYJ%2BhmBQ%3D\"\n",
        "DATASOURCE_SAS_TOKEN = \"?sp=r&st=2023-08-29T23:09:13Z&se=2024-08-30T07:09:13Z&sv=2022-11-02&sr=c&sig=6peY%2BQUCV%2FfK5Rf6S86nt5chXpxnCJXkl2DVbaK0i2Q%3D\"\n",
        "#BLOB_CONTAINER_NAME = \"arxivcs\"\n",
        "BLOB_CONTAINER_NAME = \"customer360\"\n",
        "BLOB_FOLDER_NAME = \"mapping\""
      ],
      "outputs": [],
      "execution_count": 39,
      "metadata": {
        "jupyter": {
          "source_hidden": false,
          "outputs_hidden": false
        },
        "nteract": {
          "transient": {
            "deleting": false
          }
        },
        "gather": {
          "logged": 1693753089522
        }
      },
      "id": "2f35141b-389b-487e-9a32-8f304297c08f"
    },
    {
      "cell_type": "code",
      "source": [
        "# Set the ENV variables that Langchain needs to connect to Azure OpenAI\n",
        "os.environ[\"OPENAI_API_BASE\"] = os.environ[\"AZURE_OPENAI_ENDPOINT\"]\n",
        "os.environ[\"OPENAI_API_KEY\"] = os.environ[\"AZURE_OPENAI_API_KEY\"]\n",
        "os.environ[\"OPENAI_API_VERSION\"] = os.environ[\"AZURE_OPENAI_API_VERSION\"]\n",
        "os.environ[\"OPENAI_API_TYPE\"] = \"azure\""
      ],
      "outputs": [],
      "execution_count": 5,
      "metadata": {
        "gather": {
          "logged": 1693751744748
        }
      },
      "id": "81a497a8-d2f4-40ef-bdd2-389c44c41a2b"
    },
    {
      "cell_type": "markdown",
      "source": [
        "## Download the dataset and load it into Pandas Dataframe"
      ],
      "metadata": {},
      "id": "dd23c284-a569-4e9f-9c77-62da216be92b"
    },
    {
      "cell_type": "code",
      "source": [
        "#Download the csv files to disk and inspect using pandas\n",
        "import pandas as pd\n",
        "remote_file_path = \"https://njonpdadls3.blob.core.windows.net/customer360/mapping/teammapping.csv\""
      ],
      "outputs": [],
      "execution_count": 40,
      "metadata": {
        "jupyter": {
          "source_hidden": false,
          "outputs_hidden": false
        },
        "nteract": {
          "transient": {
            "deleting": false
          }
        },
        "gather": {
          "logged": 1693753095612
        }
      },
      "id": "2e39ec90-4f3c-4b96-bbe5-38d2481fa4d7"
    },
    {
      "cell_type": "code",
      "source": [
        "df = pd.read_csv(remote_file_path + DATASOURCE_SAS_TOKEN)\n",
        "print(\"No. of lines:\",df.shape[0])"
      ],
      "outputs": [
        {
          "output_type": "stream",
          "name": "stdout",
          "text": "No. of lines: 96\n"
        }
      ],
      "execution_count": 41,
      "metadata": {
        "jupyter": {
          "source_hidden": false,
          "outputs_hidden": false
        },
        "nteract": {
          "transient": {
            "deleting": false
          }
        },
        "gather": {
          "logged": 1693753096549
        }
      },
      "id": "d470f203-2969-4c96-ad24-924774673fb7"
    },
    {
      "cell_type": "code",
      "source": [
        "print(\"Rows and Columns:\",df.shape)\n",
        "df.head()"
      ],
      "outputs": [
        {
          "output_type": "stream",
          "name": "stdout",
          "text": "Rows and Columns: (96, 14)\n"
        },
        {
          "output_type": "execute_result",
          "execution_count": 42,
          "data": {
            "text/plain": "         ATU  Sales Pod                Sales Territory            AE  \\\n0  Northwest  NWA Pod 2              US.NWA.100.DS.204        NESANC   \n1  Northwest  NWA Pod 2              US.NWA.100.DS.205      MAMARLOW   \n2     Retail  RTL Pod 1  US.RTL.W.200.DigitalSales.101       CHRHART   \n3     Retail  RTL Pod 2  US.RTL.W.200.DigitalSales.201  ANGELMIRELES   \n4     Retail  RTL Pod 2  US.RTL.W.200.DigitalSales.202       CHBERRY   \n\n   Core SSP   Core CSA  AppInnov       App CSA SSM core DataAI SSP       SSM  \\\n0  WIARNSPI  AMRTAWFIK  JABERBER  ZACHARYZURLO      TBH   ERSCHULD     BKERR   \n1  WIARNSPI  AMRTAWFIK  JABERBER  ZACHARYZURLO      TBH   ERSCHULD     BKERR   \n2   PRPETEN  AMRTAWFIK    CAGILL  ZACHARYZURLO  DANNYVO     GODAHL  DUCOTTON   \n3   PRPETEN  AMRTAWFIK    CAGILL  ZACHARYZURLO  DANNYVO     GODAHL  DUCOTTON   \n4   PRPETEN  AMRTAWFIK    CAGILL  ZACHARYZURLO  DANNYVO     GODAHL  DUCOTTON   \n\n  DataAI CSA   acq CSA       DSR  \n0    EDOPOKU     YUNGC  RAPROZIN  \n1    EDOPOKU     YUNGC  RAPROZIN  \n2   FODERMID  BRVENAAS       MIA  \n3   FODERMID  BRVENAAS   SEOGMAN  \n4   FODERMID  BRVENAAS   SEOGMAN  ",
            "text/html": "<div>\n<style scoped>\n    .dataframe tbody tr th:only-of-type {\n        vertical-align: middle;\n    }\n\n    .dataframe tbody tr th {\n        vertical-align: top;\n    }\n\n    .dataframe thead th {\n        text-align: right;\n    }\n</style>\n<table border=\"1\" class=\"dataframe\">\n  <thead>\n    <tr style=\"text-align: right;\">\n      <th></th>\n      <th>ATU</th>\n      <th>Sales Pod</th>\n      <th>Sales Territory</th>\n      <th>AE</th>\n      <th>Core SSP</th>\n      <th>Core CSA</th>\n      <th>AppInnov</th>\n      <th>App CSA</th>\n      <th>SSM core</th>\n      <th>DataAI SSP</th>\n      <th>SSM</th>\n      <th>DataAI CSA</th>\n      <th>acq CSA</th>\n      <th>DSR</th>\n    </tr>\n  </thead>\n  <tbody>\n    <tr>\n      <th>0</th>\n      <td>Northwest</td>\n      <td>NWA Pod 2</td>\n      <td>US.NWA.100.DS.204</td>\n      <td>NESANC</td>\n      <td>WIARNSPI</td>\n      <td>AMRTAWFIK</td>\n      <td>JABERBER</td>\n      <td>ZACHARYZURLO</td>\n      <td>TBH</td>\n      <td>ERSCHULD</td>\n      <td>BKERR</td>\n      <td>EDOPOKU</td>\n      <td>YUNGC</td>\n      <td>RAPROZIN</td>\n    </tr>\n    <tr>\n      <th>1</th>\n      <td>Northwest</td>\n      <td>NWA Pod 2</td>\n      <td>US.NWA.100.DS.205</td>\n      <td>MAMARLOW</td>\n      <td>WIARNSPI</td>\n      <td>AMRTAWFIK</td>\n      <td>JABERBER</td>\n      <td>ZACHARYZURLO</td>\n      <td>TBH</td>\n      <td>ERSCHULD</td>\n      <td>BKERR</td>\n      <td>EDOPOKU</td>\n      <td>YUNGC</td>\n      <td>RAPROZIN</td>\n    </tr>\n    <tr>\n      <th>2</th>\n      <td>Retail</td>\n      <td>RTL Pod 1</td>\n      <td>US.RTL.W.200.DigitalSales.101</td>\n      <td>CHRHART</td>\n      <td>PRPETEN</td>\n      <td>AMRTAWFIK</td>\n      <td>CAGILL</td>\n      <td>ZACHARYZURLO</td>\n      <td>DANNYVO</td>\n      <td>GODAHL</td>\n      <td>DUCOTTON</td>\n      <td>FODERMID</td>\n      <td>BRVENAAS</td>\n      <td>MIA</td>\n    </tr>\n    <tr>\n      <th>3</th>\n      <td>Retail</td>\n      <td>RTL Pod 2</td>\n      <td>US.RTL.W.200.DigitalSales.201</td>\n      <td>ANGELMIRELES</td>\n      <td>PRPETEN</td>\n      <td>AMRTAWFIK</td>\n      <td>CAGILL</td>\n      <td>ZACHARYZURLO</td>\n      <td>DANNYVO</td>\n      <td>GODAHL</td>\n      <td>DUCOTTON</td>\n      <td>FODERMID</td>\n      <td>BRVENAAS</td>\n      <td>SEOGMAN</td>\n    </tr>\n    <tr>\n      <th>4</th>\n      <td>Retail</td>\n      <td>RTL Pod 2</td>\n      <td>US.RTL.W.200.DigitalSales.202</td>\n      <td>CHBERRY</td>\n      <td>PRPETEN</td>\n      <td>AMRTAWFIK</td>\n      <td>CAGILL</td>\n      <td>ZACHARYZURLO</td>\n      <td>DANNYVO</td>\n      <td>GODAHL</td>\n      <td>DUCOTTON</td>\n      <td>FODERMID</td>\n      <td>BRVENAAS</td>\n      <td>SEOGMAN</td>\n    </tr>\n  </tbody>\n</table>\n</div>"
          },
          "metadata": {}
        }
      ],
      "execution_count": 42,
      "metadata": {
        "gather": {
          "logged": 1693753097984
        }
      },
      "id": "54c0f7eb-0ec2-44aa-b02b-8dbe1b122b28"
    },
    {
      "cell_type": "code",
      "source": [
        "df.columns"
      ],
      "outputs": [
        {
          "output_type": "execute_result",
          "execution_count": 43,
          "data": {
            "text/plain": "Index(['ATU', 'Sales Pod', 'Sales Territory', 'AE', 'Core SSP', 'Core CSA',\n       'AppInnov', 'App CSA', 'SSM core', 'DataAI SSP', 'SSM', 'DataAI CSA',\n       'acq CSA', 'DSR'],\n      dtype='object')"
          },
          "metadata": {}
        }
      ],
      "execution_count": 43,
      "metadata": {
        "gather": {
          "logged": 1693753103858
        }
      },
      "id": "d703e877-0a85-43c5-ab35-8ecbe72c44c8"
    },
    {
      "cell_type": "markdown",
      "source": [
        "## Load our LLM and create our MRKL Agent"
      ],
      "metadata": {},
      "id": "21f25d06-03c3-4f73-bb9a-5a43777d1bf5"
    },
    {
      "cell_type": "markdown",
      "source": [
        "The implementation of Agents is inspired by two papers: the [MRKL Systems](https://arxiv.org/abs/2205.00445) paper (pronounced ‘miracle’ 😉) and the [ReAct](https://arxiv.org/abs/2210.03629) paper.\n",
        "\n",
        "Agents are a way to leverage the ability of LLMs to understand and act on prompts. In essence, an Agent is an LLM that has been given a very clever initial prompt. The prompt tells the LLM to break down the process of answering a complex query into a sequence of steps that are resolved one at a time.\n",
        "\n",
        "Agents become really cool when we combine them with ‘experts’, introduced in the MRKL paper. Simple example: an Agent might not have the inherent capability to reliably perform mathematical calculations by itself. However, we can introduce an expert - in this case a calculator, an expert at mathematical calculations. Now, when we need to perform a calculation, the Agent can call in the expert rather than trying to predict the result itself. This is actually the concept behind [ChatGPT Pluggins](https://openai.com/blog/chatgpt-plugins).\n",
        "\n",
        "In our case, in order to solve the problem \"How do I ask questions to a tabular CSV file\", we need this REACT/MRKL approach, in which we need to instruct the LLM that it needs to use an 'expert/tool' in order to read/load/understand/interact with a CSV tabular file.\n",
        "\n",
        "OpenAI opened the world to a whole new concept. Libraries are being created fast and furious. We will be using [LangChain](https://docs.langchain.com/docs/) as our library to solve this problem, however there are others that we recommend: [HayStack](https://haystack.deepset.ai/) and [Semantic Kernel](https://learn.microsoft.com/en-us/semantic-kernel/whatissk)."
      ],
      "metadata": {},
      "id": "87d4c5dd-8d4b-4a7b-a108-99486582530d"
    },
    {
      "cell_type": "code",
      "source": [
        "# Let's ask a complex question that requires multiple steps to solve it, and where it is not clear.\n",
        "# looking at the dataframea above, even by a human on what columns to use\n",
        "QUESTION = \"How many AE for SDP ATU. Also list all the AE for SDP ATU\""
      ],
      "outputs": [],
      "execution_count": 93,
      "metadata": {
        "gather": {
          "logged": 1693755150482
        }
      },
      "id": "b86deb94-a500-4187-9638-55fc64ce0115"
    },
    {
      "cell_type": "code",
      "source": [
        "# First we load our LLM: GPT-4 (you are welcome to try GPT-3.5-Turbo. You will see that GPT-3.5 \n",
        "# does not have the cognitive capabilities to solve a complex question and will make mistakes)\n",
        "#llm = AzureChatOpenAI(deployment_name=\"gpt-4\", temperature=0, max_tokens=500)\n",
        "llm = AzureChatOpenAI(deployment_name=\"gpt-35-turbo\", temperature=0, max_tokens=500)"
      ],
      "outputs": [],
      "execution_count": 94,
      "metadata": {
        "gather": {
          "logged": 1693755151462
        }
      },
      "id": "46238c2e-2eb4-4fc3-8472-b894380a5063"
    },
    {
      "cell_type": "markdown",
      "source": [
        "Now we need our agent and our expert/tool.  \n",
        "LangChain has created an out-of-the-box agents that we can use to solve our Q&A to CSV tabular data file problem. For more informatio about tje **CSV Agent** click [HERE](https://python.langchain.com/en/latest/modules/agents/toolkits/examples/csv.html)"
      ],
      "metadata": {},
      "id": "66a4d7d9-17c9-49cc-a98a-a5c7ace0480d"
    },
    {
      "cell_type": "code",
      "source": [
        "agent_executor = create_pandas_dataframe_agent(llm=llm,df=df,verbose=True)"
      ],
      "outputs": [],
      "execution_count": 95,
      "metadata": {
        "gather": {
          "logged": 1693755152471
        }
      },
      "id": "2927c9d0-1980-437e-9b06-7462bb6602a0"
    },
    {
      "cell_type": "code",
      "source": [
        "agent_executor.agent.allowed_tools"
      ],
      "outputs": [
        {
          "output_type": "execute_result",
          "execution_count": 96,
          "data": {
            "text/plain": "['python_repl_ast']"
          },
          "metadata": {}
        }
      ],
      "execution_count": 96,
      "metadata": {
        "gather": {
          "logged": 1693755153168
        }
      },
      "id": "44a7b5bf-7601-4b4c-b76f-a8a64dda7c39"
    },
    {
      "cell_type": "code",
      "source": [
        "printmd(agent_executor.agent.llm_chain.prompt.template)"
      ],
      "outputs": [
        {
          "output_type": "display_data",
          "data": {
            "text/plain": "<IPython.core.display.Markdown object>",
            "text/markdown": "\nYou are working with a pandas dataframe in Python. The name of the dataframe is `df`.\nYou should use the tools below to answer the question posed of you:\n\npython_repl_ast: A Python shell. Use this to execute python commands. Input should be a valid python command. When using this tool, sometimes output is abbreviated - make sure it does not look abbreviated before using it in your answer.\n\nUse the following format:\n\nQuestion: the input question you must answer\nThought: you should always think about what to do\nAction: the action to take, should be one of [python_repl_ast]\nAction Input: the input to the action\nObservation: the result of the action\n... (this Thought/Action/Action Input/Observation can repeat N times)\nThought: I now know the final answer\nFinal Answer: the final answer to the original input question\n\n\nThis is the result of `print(df.head())`:\n{df_head}\n\nBegin!\nQuestion: {input}\n{agent_scratchpad}"
          },
          "metadata": {}
        }
      ],
      "execution_count": 97,
      "metadata": {
        "gather": {
          "logged": 1693755153846
        }
      },
      "id": "904e0276-78a2-4555-96ce-ece5a99e4db1"
    },
    {
      "cell_type": "markdown",
      "source": [
        "## Enjoy the response and the power of GPT-4 + REACT/MKRL approach"
      ],
      "metadata": {},
      "id": "7d0220e2-9b3f-467e-9843-7a27a09fd39b"
    },
    {
      "cell_type": "code",
      "source": [
        "response = agent_executor.run(CSV_PROMPT_PREFIX + QUESTION + CSV_PROMPT_SUFFIX)"
      ],
      "outputs": [
        {
          "output_type": "stream",
          "name": "stdout",
          "text": "\n\n\u001b[1m> Entering new  chain...\u001b[0m\n\u001b[32;1m\u001b[1;3mThought: \nI need to set the pandas display options to show all the columns, then get the column names to see which columns I need to use to answer the question. Then I can filter the dataframe to only include rows where ATU is SDP, count the number of unique AE, and list all the unique AE.\nAction: python_repl_ast\nAction Input:\n```\n# set pandas display options\npd.set_option('display.max_columns', None)\n\n# get column names\nprint(df.columns)\n```\u001b[0m\nObservation: \u001b[36;1m\u001b[1;3mNameError: name 'pd' is not defined\u001b[0m\nThought:\u001b[32;1m\u001b[1;3mI need to import pandas first before I can use it.\nAction: python_repl_ast\nAction Input:\n```\nimport pandas as pd\n\n# set pandas display options\npd.set_option('display.max_columns', None)\n\n# get column names\nprint(df.columns)\n```\u001b[0m\nObservation: \u001b[36;1m\u001b[1;3mIndex(['ATU', 'Sales Pod', 'Sales Territory', 'AE', 'Core SSP', 'Core CSA',\n       'AppInnov', 'App CSA', 'SSM core', 'DataAI SSP', 'SSM', 'DataAI CSA',\n       'acq CSA', 'DSR'],\n      dtype='object')\n\u001b[0m\nThought:\u001b[32;1m\u001b[1;3mI need to filter the dataframe to only include rows where ATU is SDP, then count the number of unique AE and list all the unique AE.\nAction: python_repl_ast\nAction Input:\n```\n# filter dataframe to only include rows where ATU is SDP\nsdp_df = df[df['ATU'] == 'SDP']\n\n# count number of unique AE\nnum_ae = sdp_df['AE'].nunique()\n\n# list all unique AE\nunique_ae = sdp_df['AE'].unique()\n\nprint(num_ae)\nprint(unique_ae)\n```\u001b[0m3\n\nObservation: \u001b[36;1m\u001b[1;3m['EVANELIZALDE' 'PATERLE' 'ROBERTEAVES' nan]\n\u001b[0m\nThought:\u001b[32;1m\u001b[1;3mI need to filter the unique AE list to remove any NaN values.\nAction: python_repl_ast\nAction Input:\n```\n# filter out NaN values from unique AE list\nunique_ae = unique_ae[~pd.isnull(unique_ae)]\n\nprint(num_ae)\nprint(unique_ae)\n```\u001b[0m3\n\nObservation: \u001b[36;1m\u001b[1;3m['EVANELIZALDE' 'PATERLE' 'ROBERTEAVES']\n\u001b[0m\nThought:\u001b[32;1m\u001b[1;3mI now know the final answer.\nFinal Answer: There are 3 AE for SDP ATU: EVANELIZALDE, PATERLE, and ROBERTEAVES. \n\nExplanation: \nTo answer the question, I first set the pandas display options to show all the columns and got the column names using `df.columns`. Then I filtered the dataframe to only include rows where ATU is SDP using `df[df['ATU'] == 'SDP']`. From this filtered dataframe, I counted the number of unique AE using `sdp_df['AE'].nunique()` and listed all the unique AE using `sdp_df['AE'].unique()`. Finally, I filtered out any NaN values from the unique AE list using `unique_ae[~pd.isnull(unique_ae)]`. The final answer is that there are 3 AE for SDP ATU: EVANELIZALDE, PATERLE, and ROBERTEAVES.\u001b[0m\n\n\u001b[1m> Finished chain.\u001b[0m\n"
        }
      ],
      "execution_count": 98,
      "metadata": {
        "jupyter": {
          "source_hidden": false,
          "outputs_hidden": false
        },
        "nteract": {
          "transient": {
            "deleting": false
          }
        },
        "gather": {
          "logged": 1693755166478
        }
      },
      "id": "4eed43c0-c18c-4d7f-8ebd-39d59f42383b"
    },
    {
      "cell_type": "code",
      "source": [
        "# We are doing a for loop to retry N times. This is because: \n",
        "# 1) GPT-4 is still in preview and the API is being very throttled and \n",
        "# 2) Because the LLM not always gives the answer on the exact format the agent needs and hence cannot be parsed\n",
        "\n",
        "for i in range(5):\n",
        "    try:\n",
        "        response = agent_executor.run(CSV_PROMPT_PREFIX + QUESTION + CSV_PROMPT_SUFFIX) \n",
        "        break\n",
        "    except:\n",
        "        response = \"Error too many failed retries\"\n",
        "        print()\n",
        "        continue\n",
        "        \n",
        "print(response)"
      ],
      "outputs": [
        {
          "output_type": "stream",
          "name": "stdout",
          "text": "\n\n\u001b[1m> Entering new  chain...\u001b[0m\n\u001b[32;1m\u001b[1;3mThought: \nI need to set the pandas display options to show all the columns, then get the column names to see which columns I need to use to answer the question. Then I can filter the dataframe to only include rows where ATU is SDP, count the number of unique AE, and list all the unique AE.\nAction: python_repl_ast\nAction Input:\n```\n# set pandas display options\npd.set_option('display.max_columns', None)\n\n# get column names\nprint(df.columns)\n```\u001b[0m\nObservation: \u001b[36;1m\u001b[1;3mIndex(['ATU', 'Sales Pod', 'Sales Territory', 'AE', 'Core SSP', 'Core CSA',\n       'AppInnov', 'App CSA', 'SSM core', 'DataAI SSP', 'SSM', 'DataAI CSA',\n       'acq CSA', 'DSR'],\n      dtype='object')\n\u001b[0m\nThought:\u001b[32;1m\u001b[1;3mI need to filter the dataframe to only include rows where ATU is SDP, then count the number of unique AE and list all the unique AE.\nAction: python_repl_ast\nAction Input:\n```\n# filter dataframe to only include rows where ATU is SDP\nsdp_df = df[df['ATU'] == 'SDP']\n\n# count number of unique AE\nnum_ae = sdp_df['AE'].nunique()\n\n# list all unique AE\nunique_ae = sdp_df['AE'].unique()\n\nprint(num_ae)\nprint(unique_ae)\n```\u001b[0m3\n\nObservation: \u001b[36;1m\u001b[1;3m['EVANELIZALDE' 'PATERLE' 'ROBERTEAVES' nan]\n\u001b[0m\nThought:\u001b[32;1m\u001b[1;3mI need to remove the NaN value from the list of unique AE and print the final answer.\nAction: python_repl_ast\nAction Input:\n```\n# remove NaN value from unique AE list\nunique_ae = unique_ae[~pd.isnull(unique_ae)]\n\n# print final answer\nprint(\"There are\", num_ae, \"AE for SDP ATU. The AE for SDP ATU are:\", unique_ae)\n```\u001b[0m\nObservation: \u001b[36;1m\u001b[1;3mThere are 3 AE for SDP ATU. The AE for SDP ATU are: ['EVANELIZALDE' 'PATERLE' 'ROBERTEAVES']\n\u001b[0m\nThought:\u001b[32;1m\u001b[1;3mI now know the final answer.\nFinal Answer: There are 3 AE for SDP ATU. The AE for SDP ATU are: ['EVANELIZALDE' 'PATERLE' 'ROBERTEAVES']\n\nExplanation: \nTo answer the question, I first set the pandas display options to show all the columns and got the column names to see which columns I needed to use. I then filtered the dataframe to only include rows where ATU is SDP, counted the number of unique AE using the nunique() function, and listed all the unique AE using the unique() function. I removed the NaN value from the list of unique AE and printed the final answer. I used the 'ATU' and 'AE' columns to filter and count the unique values, respectively.\u001b[0m\n\n\u001b[1m> Finished chain.\u001b[0m\nThere are 3 AE for SDP ATU. The AE for SDP ATU are: ['EVANELIZALDE' 'PATERLE' 'ROBERTEAVES']\n\nExplanation: \nTo answer the question, I first set the pandas display options to show all the columns and got the column names to see which columns I needed to use. I then filtered the dataframe to only include rows where ATU is SDP, counted the number of unique AE using the nunique() function, and listed all the unique AE using the unique() function. I removed the NaN value from the list of unique AE and printed the final answer. I used the 'ATU' and 'AE' columns to filter and count the unique values, respectively.\n"
        }
      ],
      "execution_count": 99,
      "metadata": {
        "gather": {
          "logged": 1693755194409
        }
      },
      "id": "d6eb9727-036f-4a43-a796-7702183fc57d"
    },
    {
      "cell_type": "markdown",
      "source": [
        "## Evaluation\n",
        "Let's see if the answer is correct"
      ],
      "metadata": {},
      "id": "f732d941-e206-445b-a52c-b454398afba4"
    },
    {
      "cell_type": "code",
      "source": [
        "#df['date'] = pd.to_datetime(df['date'])\n",
        "july_2020 = df[(df['date'] >= '2020-07-01') & (df['date'] <= '2020-07-31')]\n",
        "texas_hospitalized_july_2020 = july_2020[july_2020['state'] == 'TX']['hospitalizedIncrease'].sum()\n",
        "nationwide_hospitalized_july_2020 = july_2020['hospitalizedIncrease'].sum()"
      ],
      "outputs": [],
      "execution_count": 13,
      "metadata": {},
      "id": "42209997-aa2a-4b97-b94b-a203bc4c6096"
    },
    {
      "cell_type": "code",
      "source": [
        "print( \"TX:\",texas_hospitalized_july_2020,\"Nationwide:\",nationwide_hospitalized_july_2020)"
      ],
      "outputs": [
        {
          "output_type": "stream",
          "name": "stdout",
          "text": "TX: 0 Nationwide: 63105\n"
        }
      ],
      "execution_count": 14,
      "metadata": {},
      "id": "349c3020-3383-4ad3-83a4-07c1ead1207d"
    },
    {
      "cell_type": "markdown",
      "source": [
        "It is Correct!\n",
        "\n",
        "**Note**: Obviously, there were hospitalizations in Texas in July 2020 (Try asking ChatGPT), but this particular File, for some reason has 0 on the column \"hospitalizedIncrease\" for Texas in July 2020. This proves though that the model is NOT making up information or using prior knowledge, but instead using only the results of its calculation on this CSV file. That's what we need!\n",
        "\n",
        "**Note 2**: You will also notice that if you run the above cell multiple times, not always you will get the same result. Sometimes it will even fail an error out. Why? \n",
        "1) This is still a very new field and LLMs and libraries still has a lot room to grow\n",
        "2) Because for complex questions that require multiple steps to solve it, even humans make mistakes\n",
        "3) Because if the column names are not clear, or ambiguous, or the data is not clean, it will make mistakes, just as humans would."
      ],
      "metadata": {},
      "id": "49988cb5-719c-4180-8ac5-0afa44018b50"
    },
    {
      "cell_type": "markdown",
      "source": [
        "# Summary"
      ],
      "metadata": {},
      "id": "073913d5-321b-4c56-9c66-649266cf6280"
    },
    {
      "cell_type": "markdown",
      "source": [
        "So, we just solved our problem on how to ask questions in natural language to our Tabular data hosted on a CSV File.\n",
        "With this approach you can see then that it is NOT necessary to make a dump of a database data into a CSV file and index that on a Search Engine, you don't even need to use the above approach and deal with a CSV data dump file. With the Agents framework, the best engineering decision is to interact directly with the data source API without the need to replicate the data in order to ask questions to it. Remember, GPT-4 can do SQL very well. \n",
        "\n",
        "Just think about this: if GPT-4 can do the above, imagine what GPT-5/6/7/8 will be able to do.\n",
        "\n",
        "**Note**: We don't recommend using a pandas agent to answer questions from tabular data. It is not fast and it makes too many parsing mistakes. We recommend using SQL (see next notebook)."
      ],
      "metadata": {},
      "id": "41108384-c132-45fc-92e4-31dc1bcf00c0"
    },
    {
      "cell_type": "markdown",
      "source": [
        "# Reference\n",
        "\n",
        "- https://haystack.deepset.ai/blog/introducing-haystack-agents\n",
        "- https://python.langchain.com/en/latest/modules/agents/agents.html\n",
        "- https://tsmatz.wordpress.com/2023/03/07/react-with-openai-gpt-and-langchain/\n",
        "- https://medium.com/@meghanheintz/intro-to-langchain-llm-templates-and-agents-8793f30f1837"
      ],
      "metadata": {},
      "id": "69e074a0-4f46-40c7-9567-7058ba103f5b"
    },
    {
      "cell_type": "markdown",
      "source": [
        "# NEXT\n",
        "We can see that GPT-4 is powerful and can translate a natural language question into the right steps in python in order to query a CSV data loaded into a pandas dataframe. \n",
        "That's pretty amazing. However the question remains: **Do I need then to dump all the data from my original sources (Databases, ERP Systems, CRM Systems) in order to be searchable by a Smart Search Engine?**\n",
        "\n",
        "The next Notebook answers this question by implementing a Question->SQL process and get the information from data in a SQL Database, eliminating the need to dump it out."
      ],
      "metadata": {},
      "id": "88f769ab-db90-48f5-a6b9-60fc0a4a854f"
    }
  ],
  "metadata": {
    "kernelspec": {
      "name": "python310-sdkv2",
      "language": "python",
      "display_name": "Python 3.10 - SDK v2"
    },
    "language_info": {
      "name": "python",
      "version": "3.10.11",
      "mimetype": "text/x-python",
      "codemirror_mode": {
        "name": "ipython",
        "version": 3
      },
      "pygments_lexer": "ipython3",
      "nbconvert_exporter": "python",
      "file_extension": ".py"
    },
    "microsoft": {
      "ms_spell_check": {
        "ms_spell_check_language": "en"
      },
      "host": {
        "AzureML": {
          "notebookHasBeenCompleted": true
        }
      }
    },
    "kernel_info": {
      "name": "python310-sdkv2"
    },
    "nteract": {
      "version": "nteract-front-end@1.0.0"
    }
  },
  "nbformat": 4,
  "nbformat_minor": 5
}