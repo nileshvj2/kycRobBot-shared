{
  "cells": [
    {
      "cell_type": "markdown",
      "source": [
        "# Load CSVs (one-to-many) to Azure Cognitive Search\n",
        "\n",
        "In this Jupyter Notebook, we create and run steps to index a CSV file in which each row is an indivual and independent record/document. Each row then becomes searchable in Azure Cognitive Search. \n",
        "The reference documentation can be found at [Indexing blobs and files to produce multiple search documents](https://learn.microsoft.com/en-us/azure/search/search-howto-index-one-to-many-blobs).\n",
        "\n",
        "By default, an indexer will treat the contents of a blob or file as a single search document. If you want a more granular representation in a search index, you can set parsingMode values to create multiple search documents from one blob or file.\n",
        "\n",
        "We are going to be using the same private Blob Storage account but a different container that has abstracts of 90k Medical publications about COVID-19 published in 2020-2022. This file is a subset of a much bigger dataset (770k articles) called CORD19 [HERE](https://github.com/allenai/cord19)"
      ],
      "metadata": {},
      "id": "4077b4ee-73ea-4155-afbd-1de66dd6b650"
    },
    {
      "cell_type": "code",
      "source": [
        "import os\n",
        "import json\n",
        "import requests\n",
        "from dotenv import load_dotenv\n",
        "load_dotenv(\"credentials.env\")\n",
        "\n",
        "# Set the Data source connection string. This is the location of the CSV with the COVID articles on each line. \n",
        "# You can change it and use your own data\n",
        "DATASOURCE_CONNECTION_STRING = \"DefaultEndpointsProtocol=https;AccountName=njonpdadls3;AccountKey=2MFKq8vzZVrxm4grSGo/cRbgkHqDuCFAoz0Yulx2D0wKBp879smmlrUZDcKeztL7M84pvQczHLWM+AStBLZ1SA==;EndpointSuffix=core.windows.net\"\n",
        "#DATASOURCE_SAS_TOKEN = \"?sv=2022-11-02&ss=bf&srt=sco&sp=rltfx&se=2024-10-02T01:02:07Z&st=2023-08-03T17:02:07Z&spr=https&sig=gLxStXFSY6X29OPpPDpBEhoQDdtJNDrMVExNYJ%2BhmBQ%3D\"\n",
        "DATASOURCE_SAS_TOKEN = \"?sp=r&st=2023-08-29T23:09:13Z&se=2024-08-30T07:09:13Z&sv=2022-11-02&sr=c&sig=6peY%2BQUCV%2FfK5Rf6S86nt5chXpxnCJXkl2DVbaK0i2Q%3D\"\n",
        "#BLOB_CONTAINER_NAME = \"arxivcs\"\n",
        "BLOB_CONTAINER_NAME = \"customer360\"\n",
        "BLOB_FOLDER_NAME = \"mapping\""
      ],
      "outputs": [],
      "execution_count": 1,
      "metadata": {
        "gather": {
          "logged": 1693509036264
        }
      },
      "id": "c088c844-1e71-4279-a8fe-a77a007c15c4"
    },
    {
      "cell_type": "code",
      "source": [
        "# Define the names for the data source, index and indexer\n",
        "datasource_name = \"kyc-cogsrch-datasource-mappingcsv\"\n",
        "skillset_name = \"kyc-cogsrch-skillset-mappingcsv\"\n",
        "index_name = \"kyc-cogsrch-index-mcsv\"\n",
        "indexer_name = \"kyc-cogsrch-indexer-mcsv\""
      ],
      "outputs": [],
      "execution_count": 2,
      "metadata": {
        "gather": {
          "logged": 1693509040379
        }
      },
      "id": "c4908539-1d17-46a3-b9e0-dcc46a210c4f"
    },
    {
      "cell_type": "code",
      "source": [
        "# Setup the Payloads header\n",
        "headers = {'Content-Type': 'application/json','api-key': os.environ['AZURE_SEARCH_KEY']}\n",
        "params = {'api-version': os.environ['AZURE_SEARCH_API_VERSION']}"
      ],
      "outputs": [],
      "execution_count": 3,
      "metadata": {
        "gather": {
          "logged": 1693509042703
        }
      },
      "id": "f2434379-070e-4110-8f5a-7d5bda9a0b7c"
    },
    {
      "cell_type": "markdown",
      "source": [
        "## Create Data Source (Blob container with the Litcovid CSV data file)"
      ],
      "metadata": {},
      "id": "ecad0e75-e3c8-4147-b8c6-b938435bc8f5"
    },
    {
      "cell_type": "code",
      "source": [
        "# Create a data source\n",
        "\n",
        "datasource_payload = {\n",
        "    \"name\": datasource_name,\n",
        "    \"description\": \"Demo files to demonstrate cognitive search capabilities of one-to-many.\",\n",
        "    \"type\": \"azureblob\",\n",
        "    \"credentials\": {\n",
        "        \"connectionString\": DATASOURCE_CONNECTION_STRING\n",
        "    },\n",
        "    \"container\": {\n",
        "        \"name\": BLOB_CONTAINER_NAME,\n",
        "        \"query\" : BLOB_FOLDER_NAME\n",
        "    }\n",
        "}\n",
        "r = requests.put(os.environ['AZURE_SEARCH_ENDPOINT'] + \"/datasources/\" + datasource_name,\n",
        "                 data=json.dumps(datasource_payload), headers=headers, params=params)\n",
        "print(r.status_code)\n",
        "print(r.ok)"
      ],
      "outputs": [
        {
          "output_type": "stream",
          "name": "stdout",
          "text": "204\nTrue\n"
        }
      ],
      "execution_count": 4,
      "metadata": {
        "gather": {
          "logged": 1693509044898
        }
      },
      "id": "a9fa6c09-a489-4b6d-8c93-5fc26bae63a0"
    },
    {
      "cell_type": "markdown",
      "source": [
        "## Inspect CSV file so we can understand the column types before creating the Index"
      ],
      "metadata": {},
      "id": "86b7ff86-19fc-48d3-88d1-b098e8d01302"
    },
    {
      "cell_type": "markdown",
      "source": [
        "In our private dataset we have place a smaller version of the original the metadata.csv file in the cord19 dataset. \n",
        "Let's see what the file looks like:"
      ],
      "metadata": {},
      "id": "6cf6879a-a3da-4e54-97ed-f4122325abb1"
    },
    {
      "cell_type": "code",
      "source": [
        "#Download the csv files to disk and inspect using pandas\n",
        "import pandas as pd\n",
        "remote_file_path = \"https://njonpdadls3.blob.core.windows.net/customer360/mapping/Mapping.csv\""
      ],
      "outputs": [],
      "execution_count": 5,
      "metadata": {
        "gather": {
          "logged": 1693509051744
        }
      },
      "id": "2fbbbd0d-3015-4601-9ef1-7008ad168167"
    },
    {
      "cell_type": "code",
      "source": [
        "metadata = pd.read_csv(remote_file_path + DATASOURCE_SAS_TOKEN)\n",
        "print(\"No. of lines:\",metadata.shape[0])\n",
        "\n",
        "#simple_schema = ['TPID', 'CustomerName', 'AECovered']\n",
        "#simple_schema = ['TPID', 'CustomerName', 'AECovered', 'SubSegment', 'Subsidiary', 'SalesTerritory', 'Vertical', 'VerticalCategory', 'AE', 'AzureMotion', 'AzureCoreSpecialist', 'AppInno', 'AzureD&AISpecialist', 'BizAppsSpecialist', 'LowCodeMotion', 'LowCodeSpecialist', 'ModernWorkMotion', 'ModernWorkSpecialist', 'SecuritySpecialist', 'SurfaceSpecialist' ]\n",
        "simple_schema = ['TPID', 'CustomerName', 'AECovered', 'Vertical', 'VerticalCategory', 'AE', 'AzureMotion', 'AzureCoreSpecialist', 'AppInno', 'AzureDAISpecialist']\n",
        "\n",
        "# def make_clickable(address):\n",
        "#     '''Make the url clickable'''\n",
        "#     return '<a href=\"{0}\">{0}</a>'.format(address)\n",
        "\n",
        "# def preview(text):\n",
        "#     '''Show only a preview of the text data.'''\n",
        "#     return text[:30] + '...'\n",
        "\n",
        "#format_ = {'title': preview, 'abstract': preview, 'authors': preview, 'url': make_clickable}\n",
        "\n",
        "#metadata[simple_schema].head().style.format(format_)\n",
        "metadata[simple_schema].head()"
      ],
      "outputs": [
        {
          "output_type": "stream",
          "name": "stdout",
          "text": "No. of lines: 339\n"
        },
        {
          "output_type": "execute_result",
          "execution_count": 6,
          "data": {
            "text/plain": "      TPID                  CustomerName           AECovered  \\\n0   993255  MISSION FEDERAL CREDIT UNION      SMC AE Covered   \n1   991225              Kansas City Life  SMC Non AE Covered   \n2  9900283           Inter National Bank      SMC AE Covered   \n3   989570            HELIX ELECTRIC INC      SMC AE Covered   \n4  9689842                 Futuredontics  SMC Non AE Covered   \n\n                          Vertical                VerticalCategory        AE  \\\n0                          Banking                   Credit Unions  ANSCOBEE   \n1                        Insurance  Direct Life Insurance Carriers       NaN   \n2                          Banking              Commercial Banking  PASTURGI   \n3                      Real Estate  Construction of Infrastructure  ANSCOBEE   \n4  IT Services & Business Advisory             Managed IT Services       NaN   \n\n      AzureMotion      AzureCoreSpecialist   AppInno AzureDAISpecialist  \n0   SMC Acq Azure                  ZAJOHNS       NaN                NaN  \n1   SMC Acq Azure                  ZAJOHNS       NaN                NaN  \n2  SMC Grow Azure  MICHELLEKING, KHANRAHAN  ERHALDAN            MWILLEY  \n3  SMC Grow Azure  MICHELLEKING, KEVCARTER  ERHALDAN         BRIANJISHI  \n4  SMC Grow Azure  MICHELLEKING, KHANRAHAN  ERHALDAN            MWILLEY  ",
            "text/html": "<div>\n<style scoped>\n    .dataframe tbody tr th:only-of-type {\n        vertical-align: middle;\n    }\n\n    .dataframe tbody tr th {\n        vertical-align: top;\n    }\n\n    .dataframe thead th {\n        text-align: right;\n    }\n</style>\n<table border=\"1\" class=\"dataframe\">\n  <thead>\n    <tr style=\"text-align: right;\">\n      <th></th>\n      <th>TPID</th>\n      <th>CustomerName</th>\n      <th>AECovered</th>\n      <th>Vertical</th>\n      <th>VerticalCategory</th>\n      <th>AE</th>\n      <th>AzureMotion</th>\n      <th>AzureCoreSpecialist</th>\n      <th>AppInno</th>\n      <th>AzureDAISpecialist</th>\n    </tr>\n  </thead>\n  <tbody>\n    <tr>\n      <th>0</th>\n      <td>993255</td>\n      <td>MISSION FEDERAL CREDIT UNION</td>\n      <td>SMC AE Covered</td>\n      <td>Banking</td>\n      <td>Credit Unions</td>\n      <td>ANSCOBEE</td>\n      <td>SMC Acq Azure</td>\n      <td>ZAJOHNS</td>\n      <td>NaN</td>\n      <td>NaN</td>\n    </tr>\n    <tr>\n      <th>1</th>\n      <td>991225</td>\n      <td>Kansas City Life</td>\n      <td>SMC Non AE Covered</td>\n      <td>Insurance</td>\n      <td>Direct Life Insurance Carriers</td>\n      <td>NaN</td>\n      <td>SMC Acq Azure</td>\n      <td>ZAJOHNS</td>\n      <td>NaN</td>\n      <td>NaN</td>\n    </tr>\n    <tr>\n      <th>2</th>\n      <td>9900283</td>\n      <td>Inter National Bank</td>\n      <td>SMC AE Covered</td>\n      <td>Banking</td>\n      <td>Commercial Banking</td>\n      <td>PASTURGI</td>\n      <td>SMC Grow Azure</td>\n      <td>MICHELLEKING, KHANRAHAN</td>\n      <td>ERHALDAN</td>\n      <td>MWILLEY</td>\n    </tr>\n    <tr>\n      <th>3</th>\n      <td>989570</td>\n      <td>HELIX ELECTRIC INC</td>\n      <td>SMC AE Covered</td>\n      <td>Real Estate</td>\n      <td>Construction of Infrastructure</td>\n      <td>ANSCOBEE</td>\n      <td>SMC Grow Azure</td>\n      <td>MICHELLEKING, KEVCARTER</td>\n      <td>ERHALDAN</td>\n      <td>BRIANJISHI</td>\n    </tr>\n    <tr>\n      <th>4</th>\n      <td>9689842</td>\n      <td>Futuredontics</td>\n      <td>SMC Non AE Covered</td>\n      <td>IT Services &amp; Business Advisory</td>\n      <td>Managed IT Services</td>\n      <td>NaN</td>\n      <td>SMC Grow Azure</td>\n      <td>MICHELLEKING, KHANRAHAN</td>\n      <td>ERHALDAN</td>\n      <td>MWILLEY</td>\n    </tr>\n  </tbody>\n</table>\n</div>"
          },
          "metadata": {}
        }
      ],
      "execution_count": 6,
      "metadata": {
        "gather": {
          "logged": 1693509051981
        }
      },
      "id": "aaac918a-8859-45f5-9519-2cf56bfded88"
    },
    {
      "cell_type": "markdown",
      "source": [
        "## Create Skillset - Text Splitter, Language Detection\n",
        "We will use cognitive services enrichment for spliting the text of each content field into chunks (pages) and for language detection. We should always split the text since we don't know how big the content of each row might be."
      ],
      "metadata": {},
      "id": "c0b3935d-8546-4756-95cd-7f4fcecb9836"
    },
    {
      "cell_type": "code",
      "source": [
        "# Create a skillset\n",
        "skillset_payload = {\n",
        "    \"name\": skillset_name,\n",
        "    \"description\": \"Splits Text and detect language\",\n",
        "    \"skills\":\n",
        "    [\n",
        "        {\n",
        "            \"@odata.type\": \"#Microsoft.Skills.Text.LanguageDetectionSkill\",\n",
        "            \"description\": \"If you have multilingual content, adding a language code is useful for filtering\",\n",
        "            \"context\": \"/document\",\n",
        "            \"inputs\": [\n",
        "                {\n",
        "                  \"name\": \"text\",\n",
        "                  \"source\": \"/document/abstract\"\n",
        "                }\n",
        "            ],\n",
        "            \"outputs\": [\n",
        "                {\n",
        "                  \"name\": \"languageCode\",\n",
        "                  \"targetName\": \"language\"\n",
        "                }\n",
        "            ]\n",
        "        },\n",
        "        {\n",
        "            \"@odata.type\": \"#Microsoft.Skills.Text.SplitSkill\",\n",
        "            \"context\": \"/document\",\n",
        "            \"textSplitMode\": \"pages\",\n",
        "            \"maximumPageLength\": 5000, # 5000 is default\n",
        "            \"defaultLanguageCode\": \"en\",\n",
        "            \"inputs\": [\n",
        "                {\n",
        "                    \"name\": \"text\",\n",
        "                    \"source\": \"/document/abstract\"\n",
        "                },\n",
        "                {\n",
        "                    \"name\": \"languageCode\",\n",
        "                    \"source\": \"/document/language\"\n",
        "                }\n",
        "            ],\n",
        "            \"outputs\": [\n",
        "                {\n",
        "                    \"name\": \"textItems\",\n",
        "                    \"targetName\": \"pages\"\n",
        "                }\n",
        "            ]\n",
        "        }\n",
        "    ],\n",
        "    \"cognitiveServices\": {\n",
        "        \"@odata.type\": \"#Microsoft.Azure.Search.CognitiveServicesByKey\",\n",
        "        \"description\": os.environ['COG_SERVICES_NAME'],\n",
        "        \"key\": os.environ['COG_SERVICES_KEY']\n",
        "    }\n",
        "}\n",
        "\n",
        "r = requests.put(os.environ['AZURE_SEARCH_ENDPOINT'] + \"/skillsets/\" + skillset_name,\n",
        "                 data=json.dumps(skillset_payload), headers=headers, params=params)\n",
        "print(r.status_code)\n",
        "print(r.ok)"
      ],
      "outputs": [
        {
          "output_type": "stream",
          "name": "stdout",
          "text": "204\nTrue\n"
        }
      ],
      "execution_count": 7,
      "metadata": {
        "gather": {
          "logged": 1693509056975
        }
      },
      "id": "b46cfa90-28b4-4602-b6ff-743a3407fd72"
    },
    {
      "cell_type": "markdown",
      "source": [
        "## Create the Index\n",
        "In Azure Cognitive Search, both blob indexers and file indexers support a delimitedText parsing mode for CSV files that treats each line in the CSV as a separate search document.\n",
        "\n",
        "### **Important**:\n",
        "As you can see below and from the prior Notebook, there are 7 mandatory fields in the schema: `id, title, content, chunks, language, name, location`. These fields must exist in any index that you create regardles of the datasource. Any additional fields are good to add so the engine can search relevant documents, however the mandatory fields must exist for all the code downstream work with no issues."
      ],
      "metadata": {},
      "id": "0a321916-cd14-4d34-837d-1d153edb1221"
    },
    {
      "cell_type": "code",
      "source": [
        "index_payload = {\n",
        "    \"name\": index_name,  \n",
        "    \"fields\": [\n",
        "        {\"name\": \"TPID\", \"type\": \"Edm.String\", \"key\": \"true\", \"searchable\": \"false\", \"retrievable\": \"true\", \"facetable\": \"false\", \"filterable\": \"false\", \"sortable\": \"false\"},\n",
        "        {\"name\": \"CustomerName\", \"type\": \"Edm.String\", \"searchable\": \"true\", \"retrievable\": \"true\", \"facetable\": \"false\", \"filterable\": \"true\", \"sortable\": \"false\"},\n",
        "        {\"name\": \"AECovered\", \"type\": \"Edm.String\", \"searchable\": \"true\", \"retrievable\": \"true\", \"facetable\": \"false\", \"filterable\": \"false\", \"sortable\": \"false\"},\n",
        "        {\"name\": \"Vertical\",\"type\": \"Collection(Edm.String)\", \"searchable\": \"false\", \"retrievable\": \"true\", \"sortable\": \"false\", \"filterable\": \"false\", \"facetable\": \"false\"},\n",
        "        {\"name\": \"VerticalCategory\", \"type\": \"Edm.String\", \"searchable\": \"false\", \"retrievable\": \"true\", \"sortable\": \"true\", \"filterable\": \"true\", \"facetable\": \"true\"},\n",
        "        {\"name\": \"AE\", \"type\": \"Edm.String\", \"searchable\": \"true\", \"retrievable\": \"true\", \"sortable\": \"false\", \"filterable\": \"false\", \"facetable\": \"false\"},\n",
        "        {\"name\": \"AzureMotion\", \"type\": \"Edm.String\", \"searchable\": \"false\", \"retrievable\": \"true\", \"sortable\": \"false\", \"filterable\": \"false\", \"facetable\": \"false\"},\n",
        "        {\"name\": \"AzureCoreSpecialist\", \"type\": \"Edm.String\", \"searchable\": \"false\", \"retrievable\": \"true\", \"sortable\": \"false\", \"filterable\": \"false\", \"facetable\": \"false\"},\n",
        "        {\"name\": \"AppInno\", \"type\": \"Edm.String\", \"searchable\": \"false\", \"retrievable\": \"true\", \"sortable\": \"false\", \"filterable\": \"false\", \"facetable\": \"false\"},\n",
        "        {\"name\": \"AzureDAISpecialist\", \"type\": \"Edm.String\", \"searchable\": \"false\", \"retrievable\": \"true\", \"sortable\": \"false\", \"filterable\": \"false\", \"facetable\": \"false\"},\n",
        "        {\"name\": \"authors\", \"type\": \"Edm.String\", \"searchable\": \"true\", \"retrievable\": \"true\", \"facetable\": \"false\", \"filterable\": \"false\", \"sortable\": \"false\"},\n",
        "        {\"name\": \"metadata_storage_name\", \"type\": \"Edm.String\", \"searchable\": \"true\", \"retrievable\": \"true\", \"sortable\": \"false\", \"filterable\": \"false\", \"facetable\": \"false\"},\n",
        "        {\"name\": \"metadata_storage_path\", \"type\":\"Edm.String\", \"searchable\": \"false\", \"retrievable\": \"true\", \"filterable\": \"false\", \"sortable\": \"false\"},\n",
        "        {\"name\": \"metadata_storage_last_modified\", \"type\":\"Edm.DateTimeOffset\", \"searchable\": \"false\", \"retrievable\": \"false\", \"filterable\": \"false\", \"sortable\": \"false\"}\n",
        "    ],\n",
        "    \"semantic\": {\n",
        "        \"configurations\": [\n",
        "            {\n",
        "                \"name\": \"my-semantic-config\",\n",
        "                \"prioritizedFields\": {\n",
        "                    \"titleField\": \n",
        "                        {\n",
        "                            \"fieldName\": \"CustomerName\"\n",
        "                        },\n",
        "                    \"prioritizedContentFields\": [\n",
        "                        { \n",
        "                            \"fieldName\":\"Vertical\" ,\n",
        "                            \"fieldName\":\"AECovered\" ,\n",
        "                            \"fieldName\":\"AzureMotion\" ,\n",
        "                            \"fieldName\":\"AzureCoreSpecialist\" ,\n",
        "                            \"fieldName\":\"AppInno\" ,\n",
        "                            \"fieldName\":\"AzureDAISpecialist\" ,                            \n",
        "\n",
        "                        }\n",
        "                    ]\n",
        "                }\n",
        "            }\n",
        "        ]\n",
        "    }\n",
        "}\n",
        "\n",
        "r = requests.put(os.environ['AZURE_SEARCH_ENDPOINT'] + \"/indexes/\" + index_name,\n",
        "                 data=json.dumps(index_payload), headers=headers, params=params)\n",
        "print(r.status_code)\n",
        "print(r.ok)"
      ],
      "outputs": [
        {
          "output_type": "stream",
          "name": "stdout",
          "text": "204\nTrue\n"
        }
      ],
      "execution_count": 8,
      "metadata": {
        "gather": {
          "logged": 1693509061836
        }
      },
      "id": "5284b80c-9ba6-49d6-8109-5bfdbaa6ddc5"
    },
    {
      "cell_type": "code",
      "source": [
        "print(r.text)"
      ],
      "outputs": [
        {
          "output_type": "stream",
          "name": "stdout",
          "text": "\n"
        }
      ],
      "execution_count": 9,
      "metadata": {
        "jupyter": {
          "source_hidden": false,
          "outputs_hidden": false
        },
        "nteract": {
          "transient": {
            "deleting": false
          }
        },
        "gather": {
          "logged": 1693509063211
        }
      },
      "id": "a34e2c09-4255-4d8d-80be-972ba7010bbe"
    },
    {
      "cell_type": "markdown",
      "source": [
        "## Create and Run the Indexer - (runs the pipeline)\n",
        "To create one-to-many indexers with CSV blobs, create or update an indexer definition with the delimitedText parsing mode"
      ],
      "metadata": {},
      "id": "51849738-6f66-452a-b7df-d34afd11f943"
    },
    {
      "cell_type": "code",
      "source": [
        "indexer_payload = {\n",
        "    \"name\": indexer_name,\n",
        "    \"dataSourceName\": datasource_name,\n",
        "    \"targetIndexName\": index_name,\n",
        "    \"skillsetName\": skillset_name,\n",
        "    \"schedule\" : { \"interval\" : \"PT2H\"},\n",
        "    \"fieldMappings\": [\n",
        "        {\n",
        "          \"sourceFieldName\" : \"TPID\",\n",
        "          \"targetFieldName\" : \"TPID\"\n",
        "        },\n",
        "        {\n",
        "          \"sourceFieldName\" : \"CustomerName\",\n",
        "          \"targetFieldName\" : \"CustomerName\"\n",
        "        },\n",
        "        {\n",
        "          \"sourceFieldName\" : \"metadata_storage_name\",\n",
        "          \"targetFieldName\" : \"name\"\n",
        "        },\n",
        "        {\n",
        "          \"sourceFieldName\" : \"url\",\n",
        "          \"targetFieldName\" : \"location\"\n",
        "        }\n",
        "    ],\n",
        "    \"outputFieldMappings\":\n",
        "    [\n",
        "        {\n",
        "            \"sourceFieldName\": \"/document/language\",\n",
        "            \"targetFieldName\": \"language\"\n",
        "        },\n",
        "        {\n",
        "            \"sourceFieldName\": \"/document/pages/*\",\n",
        "            \"targetFieldName\": \"chunks\"\n",
        "        }\n",
        "    ],\n",
        "    \"parameters\" : { \n",
        "        \"configuration\" : { \n",
        "            \"dataToExtract\": \"contentAndMetadata\",\n",
        "            \"parsingMode\" : \"delimitedText\", \n",
        "            \"firstLineContainsHeaders\" : True,\n",
        "            \"delimitedTextDelimiter\": \",\"\n",
        "        } \n",
        "    }\n",
        "}\n",
        "r = requests.put(os.environ['AZURE_SEARCH_ENDPOINT'] + \"/indexers/\" + indexer_name,\n",
        "                 data=json.dumps(indexer_payload), headers=headers, params=params)\n",
        "print(r.status_code)\n",
        "print(r.ok)"
      ],
      "outputs": [
        {
          "output_type": "stream",
          "name": "stdout",
          "text": "400\nFalse\n"
        }
      ],
      "execution_count": 10,
      "metadata": {
        "gather": {
          "logged": 1693509073834
        }
      },
      "id": "b87b8ebd-8091-43b6-9124-cc17021cfb78"
    },
    {
      "cell_type": "code",
      "source": [
        "print(r.text)"
      ],
      "outputs": [
        {
          "output_type": "stream",
          "name": "stdout",
          "text": "{\"error\":{\"code\":\"\",\"message\":\"Output field mapping specifies target field 'language' that doesn't exist in the index\"}}\n"
        }
      ],
      "execution_count": 11,
      "metadata": {
        "jupyter": {
          "source_hidden": false,
          "outputs_hidden": false
        },
        "nteract": {
          "transient": {
            "deleting": false
          }
        },
        "gather": {
          "logged": 1693509079003
        }
      },
      "id": "466fe9d1-cab7-40ea-9668-2ecc77e11659"
    },
    {
      "cell_type": "code",
      "source": [
        "# Optionally, get indexer status to confirm that it's running\n",
        "r = requests.get(os.environ['AZURE_SEARCH_ENDPOINT'] + \"/indexers/\" + indexer_name +\n",
        "                 \"/status\", headers=headers, params=params)\n",
        "# pprint(json.dumps(r.json(), indent=1))\n",
        "print(r.status_code)\n",
        "print(\"Status:\",r.json().get('lastResult').get('status'))\n",
        "print(\"Items Processed:\",r.json().get('lastResult').get('itemsProcessed'))\n",
        "print(r.ok)"
      ],
      "outputs": [
        {
          "output_type": "stream",
          "name": "stdout",
          "text": "200\nStatus: success\nItems Processed: 90000\nTrue\n"
        }
      ],
      "execution_count": 49,
      "metadata": {
        "gather": {
          "logged": 1691246942594
        }
      },
      "id": "6132c041-7213-410e-a206-1a8c7385128e"
    },
    {
      "cell_type": "markdown",
      "source": [
        "**When the indexer finishes running we will have all 90,000 rows indexed properly as separate documents in our Search Engine!.**"
      ],
      "metadata": {},
      "id": "2152806f-245c-45db-93c6-c19c0569d73a"
    },
    {
      "cell_type": "markdown",
      "source": [
        "# Reference\n",
        "\n",
        "- https://learn.microsoft.com/en-us/azure/search/search-howto-index-csv-blobs\n",
        "- https://learn.microsoft.com/en-us/azure/search/knowledge-store-create-rest\n",
        "\n"
      ],
      "metadata": {},
      "id": "0eed6f22-437f-4a49-9b67-5fa2e7d066bf"
    },
    {
      "cell_type": "markdown",
      "source": [
        "# NEXT\n",
        "Now that we have two separete indexes loaded with two different types of information, In the next notebook 3, we will do a Multi-Index query, sort the results based on the reranker semantic score of Azure Search, and then use OpenAI to understand this results and give the best answer possible"
      ],
      "metadata": {},
      "id": "4d9f82a9-cb4c-44b9-b125-bc124ea23aa8"
    }
  ],
  "metadata": {
    "kernelspec": {
      "name": "python310-sdkv2",
      "language": "python",
      "display_name": "Python 3.10 - SDK v2"
    },
    "language_info": {
      "name": "python",
      "version": "3.10.11",
      "mimetype": "text/x-python",
      "codemirror_mode": {
        "name": "ipython",
        "version": 3
      },
      "pygments_lexer": "ipython3",
      "nbconvert_exporter": "python",
      "file_extension": ".py"
    },
    "microsoft": {
      "ms_spell_check": {
        "ms_spell_check_language": "en"
      },
      "host": {
        "AzureML": {
          "notebookHasBeenCompleted": true
        }
      }
    },
    "kernel_info": {
      "name": "python310-sdkv2"
    },
    "nteract": {
      "version": "nteract-front-end@1.0.0"
    }
  },
  "nbformat": 4,
  "nbformat_minor": 5
}